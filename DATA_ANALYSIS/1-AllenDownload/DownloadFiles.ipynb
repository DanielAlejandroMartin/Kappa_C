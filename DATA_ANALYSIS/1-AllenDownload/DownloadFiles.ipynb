{
 "cells": [
  {
   "cell_type": "markdown",
   "metadata": {},
   "source": [
    "This example file was modified from: https://allensdk.readthedocs.io/ , NeuradataWithoutBorders, and others"
   ]
  },
  {
   "cell_type": "code",
   "execution_count": 1,
   "metadata": {
    "scrolled": true
   },
   "outputs": [
    {
     "name": "stdout",
     "output_type": "stream",
     "text": [
      "You are using Python 3.8.\n"
     ]
    }
   ],
   "source": [
    "%matplotlib inline\n",
    "import sys\n",
    "print(\"You are using Python {}.{}.\".format(sys.version_info.major, sys.version_info.minor))"
   ]
  },
  {
   "cell_type": "raw",
   "metadata": {},
   "source": [
    "First Import all potentially useul tools"
   ]
  },
  {
   "cell_type": "code",
   "execution_count": 2,
   "metadata": {},
   "outputs": [],
   "source": [
    "from datetime import datetime\n",
    "from dateutil.tz import tzlocal\n",
    "\n",
    "from allensdk.core.brain_observatory_cache import BrainObservatoryCache\n",
    "import allensdk.brain_observatory.stimulus_info as si\n",
    "\n",
    "from pynwb import NWBFile, NWBHDF5IO, TimeSeries\n",
    "from pynwb.ophys import OpticalChannel, DfOverF, ImageSegmentation\n",
    "from pynwb.image import ImageSeries, IndexSeries\n",
    "from pynwb.device import Device\n",
    "\n",
    "import pprint\n",
    "import numpy as np\n",
    "from statistics import mean\n"
   ]
  },
  {
   "cell_type": "raw",
   "metadata": {},
   "source": [
    "Prepare to download experiment id  "
   ]
  },
  {
   "cell_type": "code",
   "execution_count": 3,
   "metadata": {},
   "outputs": [
    {
     "name": "stderr",
     "output_type": "stream",
     "text": [
      "2022-08-20 22:39:59,864 allensdk.api.api.retrieve_file_over_http INFO     Downloading URL: http://api.brain-map.org/api/v2/well_known_file_download/514684659\n"
     ]
    }
   ],
   "source": [
    "boc = BrainObservatoryCache(manifest_file='manifest.json')\n",
    "ophys_experiment_id = 502368172\n",
    "save_file_name = \"brain_observatory.nwb\"\n",
    "dataset = boc.get_ophys_experiment_data(ophys_experiment_id)\n",
    "metadata = dataset.get_metadata()\n",
    "cell_specimen_ids = dataset.get_cell_specimen_ids()"
   ]
  },
  {
   "cell_type": "raw",
   "metadata": {},
   "source": [
    "Download Spikes"
   ]
  },
  {
   "cell_type": "code",
   "execution_count": 4,
   "metadata": {},
   "outputs": [
    {
     "name": "stderr",
     "output_type": "stream",
     "text": [
      "2022-08-20 22:45:17,260 allensdk.api.api.retrieve_file_over_http INFO     Downloading URL: http://api.brain-map.org/api/v2/well_known_file_download/739721238\n"
     ]
    },
    {
     "name": "stdout",
     "output_type": "stream",
     "text": [
      "295 114099\n"
     ]
    }
   ],
   "source": [
    "events = boc.get_ophys_experiment_events(ophys_experiment_id)\n",
    "\n",
    "NN = len(events)\n",
    "NT = len(events[0])\n",
    "print(NN,NT)\n",
    "\n",
    "file = \"../Files/Sp.txt\" \n",
    "np.savetxt(file, events, fmt='%1.2f')"
   ]
  },
  {
   "cell_type": "code",
   "execution_count": 5,
   "metadata": {
    "scrolled": true
   },
   "outputs": [],
   "source": [
    "# Not Used Now\n",
    "\n",
    "#timestamps, dFF = dataset.get_dff_traces()\n",
    "#timestamps, F = dataset.get_fluorescence_traces()\n",
    "#_, D = dataset.get_demixed_traces()\n",
    "\n",
    "#file = \"../Files/dff.txt\" \n",
    "#np.savetxt(file, dFF, fmt='%1.2f')\n",
    "\n",
    "#file = \"../Files/D.txt\" \n",
    "#np.savetxt(file, D, fmt='%1.2f')\n",
    "\n",
    "#file = \"../Files/SpT.txt\" \n",
    "#np.savetxt(file, np.transpose(events), fmt='%1.2f')\n",
    "\n"
   ]
  },
  {
   "cell_type": "raw",
   "metadata": {},
   "source": [
    "Download Masks for each neuron and find their center"
   ]
  },
  {
   "cell_type": "code",
   "execution_count": 6,
   "metadata": {
    "scrolled": false
   },
   "outputs": [
    {
     "name": "stdout",
     "output_type": "stream",
     "text": [
      "295\n"
     ]
    }
   ],
   "source": [
    "all_roi_masks = dataset.get_roi_mask_array()\n",
    "\n",
    "\n",
    "M = np.zeros((NN,2))\n",
    "for x in range(0, NN):\n",
    "    cordsA=np.nonzero( all_roi_masks[x])\n",
    "    M[x][0]=mean(cordsA[0])\n",
    "    M[x][1]=mean(cordsA[1])        \n",
    "\n",
    "\n",
    "file = \"../Files/coords.txt\" \n",
    "np.savetxt(file, M, fmt='%f')\n",
    "print(len(M))"
   ]
  },
  {
   "cell_type": "code",
   "execution_count": 9,
   "metadata": {},
   "outputs": [],
   "source": [
    "stim_table = dataset.get_stimulus_table('static_gratings')\n",
    "file = \"../Files/Static.txt\" \n",
    "np.savetxt(file, stim_table, fmt='%1.2f')\n",
    "\n",
    "stim_table = dataset.get_stimulus_table('natural_scenes')\n",
    "file = \"../Files/Nscenes.txt\" \n",
    "np.savetxt(file, stim_table, fmt='%1.2f')"
   ]
  },
  {
   "cell_type": "code",
   "execution_count": null,
   "metadata": {},
   "outputs": [],
   "source": []
  }
 ],
 "metadata": {
  "kernelspec": {
   "display_name": "Python 3 (ipykernel)",
   "language": "python",
   "name": "python3"
  },
  "language_info": {
   "codemirror_mode": {
    "name": "ipython",
    "version": 3
   },
   "file_extension": ".py",
   "mimetype": "text/x-python",
   "name": "python",
   "nbconvert_exporter": "python",
   "pygments_lexer": "ipython3",
   "version": "3.8.5"
  }
 },
 "nbformat": 4,
 "nbformat_minor": 1
}
